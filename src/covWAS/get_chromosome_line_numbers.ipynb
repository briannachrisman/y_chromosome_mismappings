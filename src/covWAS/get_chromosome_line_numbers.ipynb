{
 "cells": [
  {
   "cell_type": "code",
   "execution_count": 1,
   "id": "biblical-barcelona",
   "metadata": {},
   "outputs": [],
   "source": [
    "import pandas as pd\n",
    "import numpy as np\n",
    "from glob import glob\n",
    "\n",
    "df = pd.read_table('/home/groups/dpwall/briannac/y_chromosome_mismappings/data/coverages/chrom_lengths.tsv', header=None)"
   ]
  },
  {
   "cell_type": "code",
   "execution_count": 3,
   "id": "fatal-invite",
   "metadata": {},
   "outputs": [
    {
     "name": "stdout",
     "output_type": "stream",
     "text": [
      "fuck you\n"
     ]
    }
   ],
   "source": [
    "print('fuck you')"
   ]
  },
  {
   "cell_type": "code",
   "execution_count": 4,
   "id": "touched-travel",
   "metadata": {},
   "outputs": [],
   "source": [
    "df['chrom'] = [i.replace('SN:', '') for i in df[1]]\n",
    "df['length'] = [int(i.replace('LN:', '')) for i in df[2]]\n",
    "df.drop([0,1,2], inplace=True, axis=1)"
   ]
  },
  {
   "cell_type": "code",
   "execution_count": 5,
   "id": "colonial-raise",
   "metadata": {},
   "outputs": [],
   "source": [
    "df['start'] = [0] + list(np.cumsum(df['length'])[:-1].values)\n",
    "df['finish'] = np.cumsum(df['length'])-1\n",
    "df.index = df.chrom\n",
    "df = df[['start', 'finish', 'length']]"
   ]
  },
  {
   "cell_type": "code",
   "execution_count": 6,
   "id": "serial-durham",
   "metadata": {},
   "outputs": [
    {
     "data": {
      "text/html": [
       "<div>\n",
       "<style scoped>\n",
       "    .dataframe tbody tr th:only-of-type {\n",
       "        vertical-align: middle;\n",
       "    }\n",
       "\n",
       "    .dataframe tbody tr th {\n",
       "        vertical-align: top;\n",
       "    }\n",
       "\n",
       "    .dataframe thead th {\n",
       "        text-align: right;\n",
       "    }\n",
       "</style>\n",
       "<table border=\"1\" class=\"dataframe\">\n",
       "  <thead>\n",
       "    <tr style=\"text-align: right;\">\n",
       "      <th></th>\n",
       "      <th>start</th>\n",
       "      <th>finish</th>\n",
       "      <th>length</th>\n",
       "    </tr>\n",
       "  </thead>\n",
       "  <tbody>\n",
       "    <tr>\n",
       "      <th>chr1</th>\n",
       "      <td>0</td>\n",
       "      <td>248956421</td>\n",
       "      <td>248956422</td>\n",
       "    </tr>\n",
       "    <tr>\n",
       "      <th>chr2</th>\n",
       "      <td>248956422</td>\n",
       "      <td>491149950</td>\n",
       "      <td>242193529</td>\n",
       "    </tr>\n",
       "    <tr>\n",
       "      <th>chr3</th>\n",
       "      <td>491149951</td>\n",
       "      <td>689445509</td>\n",
       "      <td>198295559</td>\n",
       "    </tr>\n",
       "    <tr>\n",
       "      <th>chr4</th>\n",
       "      <td>689445510</td>\n",
       "      <td>879660064</td>\n",
       "      <td>190214555</td>\n",
       "    </tr>\n",
       "    <tr>\n",
       "      <th>chr5</th>\n",
       "      <td>879660065</td>\n",
       "      <td>1061198323</td>\n",
       "      <td>181538259</td>\n",
       "    </tr>\n",
       "  </tbody>\n",
       "</table>\n",
       "</div>"
      ],
      "text/plain": [
       "          start      finish     length\n",
       "chr1          0   248956421  248956422\n",
       "chr2  248956422   491149950  242193529\n",
       "chr3  491149951   689445509  198295559\n",
       "chr4  689445510   879660064  190214555\n",
       "chr5  879660065  1061198323  181538259"
      ]
     },
     "execution_count": 6,
     "metadata": {},
     "output_type": "execute_result"
    }
   ],
   "source": [
    "df.index = ['chrDecoy' if i==25 else idx for i,idx in enumerate(df.index)]\n",
    "df = df.iloc[:26]\n",
    "df.head()"
   ]
  },
  {
   "cell_type": "code",
   "execution_count": 7,
   "id": "simple-album",
   "metadata": {},
   "outputs": [],
   "source": [
    "df.to_csv('/home/groups/dpwall/briannac/y_chromosome_mismappings/data/coverages/chrom_start_stops.tsv',\n",
    "         sep='\\t')"
   ]
  },
  {
   "cell_type": "markdown",
   "id": "attempted-workshop",
   "metadata": {},
   "source": [
    "# Chromosome + file idx mappings"
   ]
  },
  {
   "cell_type": "code",
   "execution_count": 8,
   "id": "adjusted-ensemble",
   "metadata": {},
   "outputs": [],
   "source": [
    "mylist = []\n",
    "for row in df.iterrows():\n",
    "    for i in range(3217):\n",
    "         # If current idx is in middle of chromosome\"\n",
    "        if i==np.floor(row[1].start/1000000): \n",
    "            mylist = mylist + [(row[0], '%04d' % i, row[1].start-i*1000000+1, 1000000)]\n",
    "            #print(row[1].start, i, 'start, so skiprows (1, ', row[1].start-i*1000000+1, ')')\n",
    "        if i==np.floor(row[1].finish/1000000): \n",
    "            mylist = mylist + [(row[0], '%04d' % i, 1, row[1].finish-i*1000000+1)]\n",
    "            #print(row[1].finish, i, 'finish so only go to row: ', row[1].finish-i*1000000+1)\n",
    "            break\n",
    "        elif (i<=np.ceil(row[1].finish/1000000)) & (i>=np.floor(row[1].start/1000000)): \n",
    "            #print(i, row[0], 'middle')\n",
    "            mylist = mylist + [(row[0], '%04d' % i, 1, 1000000)]\n"
   ]
  },
  {
   "cell_type": "code",
   "execution_count": 10,
   "id": "wanted-chambers",
   "metadata": {},
   "outputs": [],
   "source": [
    "new_df = pd.DataFrame(mylist)\n",
    "new_df.columns = ['chrom', 'file_idx', 'skiprows', 'nrows']\n",
    "new_df.to_csv('/home/groups/dpwall/briannac/y_chromosome_mismappings/intermediate_files/test.tsv', sep='\\t')"
   ]
  },
  {
   "cell_type": "code",
   "execution_count": 11,
   "id": "tested-maple",
   "metadata": {},
   "outputs": [
    {
     "data": {
      "text/html": [
       "<div>\n",
       "<style scoped>\n",
       "    .dataframe tbody tr th:only-of-type {\n",
       "        vertical-align: middle;\n",
       "    }\n",
       "\n",
       "    .dataframe tbody tr th {\n",
       "        vertical-align: top;\n",
       "    }\n",
       "\n",
       "    .dataframe thead th {\n",
       "        text-align: right;\n",
       "    }\n",
       "</style>\n",
       "<table border=\"1\" class=\"dataframe\">\n",
       "  <thead>\n",
       "    <tr style=\"text-align: right;\">\n",
       "      <th></th>\n",
       "      <th>chrom</th>\n",
       "      <th>file_idx</th>\n",
       "      <th>skiprows</th>\n",
       "      <th>nrows</th>\n",
       "    </tr>\n",
       "  </thead>\n",
       "  <tbody>\n",
       "    <tr>\n",
       "      <th>0</th>\n",
       "      <td>chr1</td>\n",
       "      <td>0000</td>\n",
       "      <td>1</td>\n",
       "      <td>1000000</td>\n",
       "    </tr>\n",
       "    <tr>\n",
       "      <th>1</th>\n",
       "      <td>chr1</td>\n",
       "      <td>0000</td>\n",
       "      <td>1</td>\n",
       "      <td>1000000</td>\n",
       "    </tr>\n",
       "    <tr>\n",
       "      <th>2</th>\n",
       "      <td>chr1</td>\n",
       "      <td>0001</td>\n",
       "      <td>1</td>\n",
       "      <td>1000000</td>\n",
       "    </tr>\n",
       "    <tr>\n",
       "      <th>3</th>\n",
       "      <td>chr1</td>\n",
       "      <td>0002</td>\n",
       "      <td>1</td>\n",
       "      <td>1000000</td>\n",
       "    </tr>\n",
       "    <tr>\n",
       "      <th>4</th>\n",
       "      <td>chr1</td>\n",
       "      <td>0003</td>\n",
       "      <td>1</td>\n",
       "      <td>1000000</td>\n",
       "    </tr>\n",
       "    <tr>\n",
       "      <th>...</th>\n",
       "      <td>...</td>\n",
       "      <td>...</td>\n",
       "      <td>...</td>\n",
       "      <td>...</td>\n",
       "    </tr>\n",
       "    <tr>\n",
       "      <th>3135</th>\n",
       "      <td>chrY</td>\n",
       "      <td>3088</td>\n",
       "      <td>1</td>\n",
       "      <td>269832</td>\n",
       "    </tr>\n",
       "    <tr>\n",
       "      <th>3136</th>\n",
       "      <td>chrM</td>\n",
       "      <td>3088</td>\n",
       "      <td>269833</td>\n",
       "      <td>1000000</td>\n",
       "    </tr>\n",
       "    <tr>\n",
       "      <th>3137</th>\n",
       "      <td>chrM</td>\n",
       "      <td>3088</td>\n",
       "      <td>1</td>\n",
       "      <td>286401</td>\n",
       "    </tr>\n",
       "    <tr>\n",
       "      <th>3138</th>\n",
       "      <td>chrDecoy</td>\n",
       "      <td>3088</td>\n",
       "      <td>286402</td>\n",
       "      <td>1000000</td>\n",
       "    </tr>\n",
       "    <tr>\n",
       "      <th>3139</th>\n",
       "      <td>chrDecoy</td>\n",
       "      <td>3088</td>\n",
       "      <td>1</td>\n",
       "      <td>461456</td>\n",
       "    </tr>\n",
       "  </tbody>\n",
       "</table>\n",
       "<p>3140 rows × 4 columns</p>\n",
       "</div>"
      ],
      "text/plain": [
       "         chrom file_idx  skiprows    nrows\n",
       "0         chr1     0000         1  1000000\n",
       "1         chr1     0000         1  1000000\n",
       "2         chr1     0001         1  1000000\n",
       "3         chr1     0002         1  1000000\n",
       "4         chr1     0003         1  1000000\n",
       "...        ...      ...       ...      ...\n",
       "3135      chrY     3088         1   269832\n",
       "3136      chrM     3088    269833  1000000\n",
       "3137      chrM     3088         1   286401\n",
       "3138  chrDecoy     3088    286402  1000000\n",
       "3139  chrDecoy     3088         1   461456\n",
       "\n",
       "[3140 rows x 4 columns]"
      ]
     },
     "execution_count": 11,
     "metadata": {},
     "output_type": "execute_result"
    }
   ],
   "source": [
    "new_df"
   ]
  },
  {
   "cell_type": "code",
   "execution_count": 12,
   "id": "extreme-update",
   "metadata": {},
   "outputs": [],
   "source": [
    "# Unfinsiehd?"
   ]
  },
  {
   "cell_type": "code",
   "execution_count": 26,
   "id": "fiscal-merchant",
   "metadata": {},
   "outputs": [],
   "source": [
    "import pandas as pd\n",
    "from glob import glob\n",
    "files = glob('/home/groups/dpwall/briannac/y_chromosome_mismappings/intermediate_files/covWAS/*.done')\n",
    "files = [f.split('/')[-1].replace('.done', '') for f in files]\n",
    "\n",
    "starts_all = pd.read_table('/home/groups/dpwall/briannac/y_chromosome_mismappings/intermediate_files/coverages/chrom_start_stops_intervals.tsv', index_col=0)\n",
    "starts_all.loc[[i for i in starts_all.index if i not in files]].to_csv(\n",
    "    '/home/groups/dpwall/briannac/y_chromosome_mismappings/intermediate_files/coverages/chrom_start_stops_intervals_unfinished.tsv',\n",
    "    sep='\\t')"
   ]
  }
 ],
 "metadata": {
  "kernelspec": {
   "display_name": "py_36_env",
   "language": "python",
   "name": "py_36_env"
  },
  "language_info": {
   "codemirror_mode": {
    "name": "ipython",
    "version": 3
   },
   "file_extension": ".py",
   "mimetype": "text/x-python",
   "name": "python",
   "nbconvert_exporter": "python",
   "pygments_lexer": "ipython3",
   "version": "3.6.1"
  }
 },
 "nbformat": 4,
 "nbformat_minor": 5
}
