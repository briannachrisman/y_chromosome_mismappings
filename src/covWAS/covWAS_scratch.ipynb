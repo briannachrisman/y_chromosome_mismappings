{
 "cells": [
  {
   "cell_type": "code",
   "execution_count": 65,
   "id": "fiscal-defense",
   "metadata": {},
   "outputs": [],
   "source": [
    "import pandas as pd\n",
    "import numpy as np\n",
    "from scipy import stats\n",
    "import matplotlib.pyplot as plt\n",
    "import sys\n",
    "from glob import glob\n",
    "from tqdm import tqdm\n",
    "from time import time\n",
    "\n",
    "sys.path.append('/home/groups/dpwall/briannac/general_scripts')\n",
    "\n",
    "from plotting.pvals_distribution_plots import PlotPvals\n",
    "\n",
    "BAM_MAPPINGS_FILE = '/home/groups/dpwall/briannac/general_data/bam_mappings.csv'\n",
    "\n",
    "bam_mappings = pd.read_table(BAM_MAPPINGS_FILE, index_col=1)"
   ]
  },
  {
   "cell_type": "code",
   "execution_count": 62,
   "id": "internal-perry",
   "metadata": {},
   "outputs": [
    {
     "name": "stdout",
     "output_type": "stream",
     "text": [
      "['/home/groups/dpwall/briannac/y_chromosome_mismappings/results/coverages/all/coverages.all.0000.tsv.gz']\n"
     ]
    }
   ],
   "source": [
    "relevant_files = [(f,int(f.split('/')[-1].replace('.tsv.gz', '').replace('coverages.all.',''))) for f in glob(\n",
    "    '/home/groups/dpwall/briannac/y_chromosome_mismappings/results/coverages/all/coverages.all.*.tsv.gz')]\n",
    "relevant_files = [i[0] for i in sorted(relevant_files, key=lambda x: x[1])]\n",
    "print(relevant_files)"
   ]
  },
  {
   "cell_type": "code",
   "execution_count": null,
   "id": "labeled-johnson",
   "metadata": {},
   "outputs": [
    {
     "name": "stderr",
     "output_type": "stream",
     "text": [
      "0it [00:00, ?it/s]"
     ]
    }
   ],
   "source": [
    "first_idx = True\n",
    "for i, f in tqdm(enumerate(relevant_files)):\n",
    "    chunk = pd.read_table(f)\n",
    "    if first_idx: \n",
    "        sums = chunk.sum()\n",
    "        first_idx = False\n",
    "    else: sums = sums + chunk.sum()\n",
    "pvals = []\n",
    "for i, f in tqdm(enumerate(relevant_files)):\n",
    "    chunk = pd.read_table(f)\n",
    "    norm_vals = chunk/sums\n",
    "    norm_vals = norm_vals[norm_vals.columns[sums>0]]\n",
    "    males = norm_vals[norm_vals.columns[\n",
    "            (bam_mappings.loc[norm_vals.columns].sex_numeric=='1.0') & (bam_mappings.loc[norm_vals.columns].relationship!='sibling')]]\n",
    "    females = norm_vals[norm_vals.columns[(bam_mappings.loc[norm_vals.columns].sex_numeric=='2.0') & (bam_mappings.loc[norm_vals.columns].relationship!='sibling')]]\n",
    "    pvals = pvals + list(stats.ttest_ind(males, females, axis=1).pvalue)\n"
   ]
  },
  {
   "cell_type": "code",
   "execution_count": 77,
   "id": "hawaiian-century",
   "metadata": {},
   "outputs": [],
   "source": [
    "pvals = np.array(pvals)\n",
    "pvals = pvals[~np.isnan(pvals)]"
   ]
  },
  {
   "cell_type": "code",
   "execution_count": 80,
   "id": "governing-relevance",
   "metadata": {},
   "outputs": [
    {
     "data": {
      "text/plain": [
       "8"
      ]
     },
     "execution_count": 80,
     "metadata": {},
     "output_type": "execute_result"
    }
   ],
   "source": [
    "len(p[~np.isnan(p)])"
   ]
  },
  {
   "cell_type": "code",
   "execution_count": 52,
   "id": "cardiac-anatomy",
   "metadata": {},
   "outputs": [],
   "source": [
    "df = pd.read_table('/home/groups/dpwall/briannac/y_chromosome_mismappings/results/coverages/all/coverages.all.0000.tsv.gz', nrows=50000)"
   ]
  },
  {
   "cell_type": "code",
   "execution_count": 54,
   "id": "indonesian-server",
   "metadata": {},
   "outputs": [
    {
     "data": {
      "image/png": "[encoded data removed]",
      "text/plain": [
       "<Figure size 432x288 with 1 Axes>"
      ]
     },
     "metadata": {
      "needs_background": "light"
     },
     "output_type": "display_data"
    }
   ],
   "source": [
    "plt.hist(df['MH0128718'].values, bins=np.linspace(0,100,100))\n",
    "plt.show()"
   ]
  },
  {
   "cell_type": "code",
   "execution_count": 43,
   "id": "missing-shakespeare",
   "metadata": {},
   "outputs": [],
   "source": [
    "chrom_starts_stops = pd.read_table('/home/groups/dpwall/briannac/y_chromosome_mismappings/intermediate_files/coverages/chrom_start_stops_intervals.tsv')"
   ]
  },
  {
   "cell_type": "code",
   "execution_count": 51,
   "id": "antique-fifty",
   "metadata": {},
   "outputs": [
    {
     "name": "stdout",
     "output_type": "stream",
     "text": [
      "chr1_0 6.973549127578735\n",
      "chr1_1 7.098416328430176\n",
      "chr1_2 7.284839630126953\n",
      "chr1_3 7.600953578948975\n",
      "chr1_4 7.56645655632019\n",
      "chr1_5 7.770650148391724\n",
      "chr1_6 8.07184648513794\n",
      "chr1_7 8.184273719787598\n",
      "chr1_8 8.282311201095581\n",
      "chr1_9 8.51613736152649\n",
      "chr1_10 8.719014883041382\n",
      "chr1_11 8.941030025482178\n",
      "chr1_12 9.099337339401245\n",
      "chr1_13 9.225812673568726\n",
      "chr1_14 9.441660642623901\n",
      "chr1_15 9.660914659500122\n",
      "chr1_16 9.796653985977173\n",
      "chr1_17 10.000363826751709\n",
      "chr1_18 10.157233238220215\n",
      "chr1_19 10.299034357070923\n",
      "chr1_20 10.841980218887329\n",
      "chr1_21 10.699199676513672\n",
      "chr1_22 10.89181399345398\n",
      "chr1_23 11.026844024658203\n",
      "chr1_24 11.888429641723633\n",
      "chr1_25 11.470055103302002\n"
     ]
    },
    {
     "ename": "KeyboardInterrupt",
     "evalue": "",
     "output_type": "error",
     "traceback": [
      "\u001b[0;31m---------------------------------------------------------------------------\u001b[0m",
      "\u001b[0;31mKeyboardInterrupt\u001b[0m                         Traceback (most recent call last)",
      "\u001b[0;32m<ipython-input-51-980071bcf0ad>\u001b[0m in \u001b[0;36m<module>\u001b[0;34m\u001b[0m\n\u001b[1;32m      1\u001b[0m \u001b[0;32mfor\u001b[0m \u001b[0midx\u001b[0m\u001b[0;34m,\u001b[0m \u001b[0mstart\u001b[0m\u001b[0;34m,\u001b[0m \u001b[0mstop\u001b[0m  \u001b[0;32min\u001b[0m \u001b[0mzip\u001b[0m\u001b[0;34m(\u001b[0m\u001b[0mchrom_starts_stops\u001b[0m\u001b[0;34m[\u001b[0m\u001b[0;34m'0'\u001b[0m\u001b[0;34m]\u001b[0m\u001b[0;34m.\u001b[0m\u001b[0mvalues\u001b[0m\u001b[0;34m,\u001b[0m \u001b[0mchrom_starts_stops\u001b[0m\u001b[0;34m[\u001b[0m\u001b[0;34m'1'\u001b[0m\u001b[0;34m]\u001b[0m\u001b[0;34m.\u001b[0m\u001b[0mvalues\u001b[0m\u001b[0;34m,\u001b[0m \u001b[0mchrom_starts_stops\u001b[0m\u001b[0;34m[\u001b[0m\u001b[0;34m'2'\u001b[0m\u001b[0;34m]\u001b[0m\u001b[0;34m.\u001b[0m\u001b[0mvalues\u001b[0m\u001b[0;34m)\u001b[0m\u001b[0;34m:\u001b[0m\u001b[0;34m\u001b[0m\u001b[0m\n\u001b[1;32m      2\u001b[0m     \u001b[0mt\u001b[0m \u001b[0;34m=\u001b[0m \u001b[0mtime\u001b[0m\u001b[0;34m(\u001b[0m\u001b[0;34m)\u001b[0m\u001b[0;34m\u001b[0m\u001b[0m\n\u001b[0;32m----> 3\u001b[0;31m     \u001b[0mtest\u001b[0m \u001b[0;34m=\u001b[0m \u001b[0mnp\u001b[0m\u001b[0;34m.\u001b[0m\u001b[0mloadtxt\u001b[0m\u001b[0;34m(\u001b[0m\u001b[0;34m'/home/groups/dpwall/briannac/y_chromosome_mismappings/intermediate_files/coverages/02C10946.unmapped.txt'\u001b[0m\u001b[0;34m,\u001b[0m \u001b[0mskiprows\u001b[0m\u001b[0;34m=\u001b[0m\u001b[0;36m1\u001b[0m\u001b[0;34m+\u001b[0m\u001b[0mstart\u001b[0m\u001b[0;34m,\u001b[0m \u001b[0mmax_rows\u001b[0m\u001b[0;34m=\u001b[0m\u001b[0;36m1000000\u001b[0m\u001b[0;34m)\u001b[0m\u001b[0;34m\u001b[0m\u001b[0m\n\u001b[0m\u001b[1;32m      4\u001b[0m     \u001b[0mnp\u001b[0m\u001b[0;34m.\u001b[0m\u001b[0msavetxt\u001b[0m\u001b[0;34m(\u001b[0m\u001b[0;34m'/home/groups/dpwall/briannac/y_chromosome_mismappings/intermediate_files/coverages/02C10946_%s.unmapped.txt'\u001b[0m \u001b[0;34m%\u001b[0m \u001b[0midx\u001b[0m\u001b[0;34m,\u001b[0m \u001b[0mtest\u001b[0m\u001b[0;34m)\u001b[0m\u001b[0;34m\u001b[0m\u001b[0m\n\u001b[1;32m      5\u001b[0m     \u001b[0mprint\u001b[0m\u001b[0;34m(\u001b[0m\u001b[0midx\u001b[0m\u001b[0;34m,\u001b[0m \u001b[0mtime\u001b[0m\u001b[0;34m(\u001b[0m\u001b[0;34m)\u001b[0m\u001b[0;34m-\u001b[0m\u001b[0mt\u001b[0m\u001b[0;34m)\u001b[0m\u001b[0;34m\u001b[0m\u001b[0m\n",
      "\u001b[0;32m~/.local/lib/python3.6/site-packages/numpy/lib/npyio.py\u001b[0m in \u001b[0;36mloadtxt\u001b[0;34m(fname, dtype, comments, delimiter, converters, skiprows, usecols, unpack, ndmin, encoding, max_rows)\u001b[0m\n\u001b[1;32m   1139\u001b[0m         \u001b[0;31m# converting the data\u001b[0m\u001b[0;34m\u001b[0m\u001b[0;34m\u001b[0m\u001b[0m\n\u001b[1;32m   1140\u001b[0m         \u001b[0mX\u001b[0m \u001b[0;34m=\u001b[0m \u001b[0;32mNone\u001b[0m\u001b[0;34m\u001b[0m\u001b[0m\n\u001b[0;32m-> 1141\u001b[0;31m         \u001b[0;32mfor\u001b[0m \u001b[0mx\u001b[0m \u001b[0;32min\u001b[0m \u001b[0mread_data\u001b[0m\u001b[0;34m(\u001b[0m\u001b[0m_loadtxt_chunksize\u001b[0m\u001b[0;34m)\u001b[0m\u001b[0;34m:\u001b[0m\u001b[0;34m\u001b[0m\u001b[0m\n\u001b[0m\u001b[1;32m   1142\u001b[0m             \u001b[0;32mif\u001b[0m \u001b[0mX\u001b[0m \u001b[0;32mis\u001b[0m \u001b[0;32mNone\u001b[0m\u001b[0;34m:\u001b[0m\u001b[0;34m\u001b[0m\u001b[0m\n\u001b[1;32m   1143\u001b[0m                 \u001b[0mX\u001b[0m \u001b[0;34m=\u001b[0m \u001b[0mnp\u001b[0m\u001b[0;34m.\u001b[0m\u001b[0marray\u001b[0m\u001b[0;34m(\u001b[0m\u001b[0mx\u001b[0m\u001b[0;34m,\u001b[0m \u001b[0mdtype\u001b[0m\u001b[0;34m)\u001b[0m\u001b[0;34m\u001b[0m\u001b[0m\n",
      "\u001b[0;32m~/.local/lib/python3.6/site-packages/numpy/lib/npyio.py\u001b[0m in \u001b[0;36mread_data\u001b[0;34m(chunk_size)\u001b[0m\n\u001b[1;32m   1069\u001b[0m \u001b[0;34m\u001b[0m\u001b[0m\n\u001b[1;32m   1070\u001b[0m             \u001b[0;31m# Then pack it according to the dtype's nesting\u001b[0m\u001b[0;34m\u001b[0m\u001b[0;34m\u001b[0m\u001b[0m\n\u001b[0;32m-> 1071\u001b[0;31m             \u001b[0mitems\u001b[0m \u001b[0;34m=\u001b[0m \u001b[0mpack_items\u001b[0m\u001b[0;34m(\u001b[0m\u001b[0mitems\u001b[0m\u001b[0;34m,\u001b[0m \u001b[0mpacking\u001b[0m\u001b[0;34m)\u001b[0m\u001b[0;34m\u001b[0m\u001b[0m\n\u001b[0m\u001b[1;32m   1072\u001b[0m             \u001b[0mX\u001b[0m\u001b[0;34m.\u001b[0m\u001b[0mappend\u001b[0m\u001b[0;34m(\u001b[0m\u001b[0mitems\u001b[0m\u001b[0;34m)\u001b[0m\u001b[0;34m\u001b[0m\u001b[0m\n\u001b[1;32m   1073\u001b[0m             \u001b[0;32mif\u001b[0m \u001b[0mlen\u001b[0m\u001b[0;34m(\u001b[0m\u001b[0mX\u001b[0m\u001b[0;34m)\u001b[0m \u001b[0;34m>\u001b[0m \u001b[0mchunk_size\u001b[0m\u001b[0;34m:\u001b[0m\u001b[0;34m\u001b[0m\u001b[0m\n",
      "\u001b[0;32m~/.local/lib/python3.6/site-packages/numpy/core/_internal.py\u001b[0m in \u001b[0;36m__call__\u001b[0;34m(self, *args, **kwargs)\u001b[0m\n\u001b[1;32m    925\u001b[0m         \u001b[0mself\u001b[0m\u001b[0;34m.\u001b[0m\u001b[0mfunc\u001b[0m \u001b[0;34m=\u001b[0m \u001b[0mfunc\u001b[0m\u001b[0;34m\u001b[0m\u001b[0m\n\u001b[1;32m    926\u001b[0m     \u001b[0;32mdef\u001b[0m \u001b[0m__call__\u001b[0m\u001b[0;34m(\u001b[0m\u001b[0mself\u001b[0m\u001b[0;34m,\u001b[0m \u001b[0;34m*\u001b[0m\u001b[0margs\u001b[0m\u001b[0;34m,\u001b[0m \u001b[0;34m**\u001b[0m\u001b[0mkwargs\u001b[0m\u001b[0;34m)\u001b[0m\u001b[0;34m:\u001b[0m\u001b[0;34m\u001b[0m\u001b[0m\n\u001b[0;32m--> 927\u001b[0;31m         \u001b[0;32mreturn\u001b[0m \u001b[0mself\u001b[0m\u001b[0;34m.\u001b[0m\u001b[0mfunc\u001b[0m\u001b[0;34m(\u001b[0m\u001b[0mself\u001b[0m\u001b[0;34m,\u001b[0m \u001b[0;34m*\u001b[0m\u001b[0margs\u001b[0m\u001b[0;34m,\u001b[0m \u001b[0;34m**\u001b[0m\u001b[0mkwargs\u001b[0m\u001b[0;34m)\u001b[0m\u001b[0;34m\u001b[0m\u001b[0m\n\u001b[0m\u001b[1;32m    928\u001b[0m \u001b[0;34m\u001b[0m\u001b[0m\n",
      "\u001b[0;32m~/.local/lib/python3.6/site-packages/numpy/lib/npyio.py\u001b[0m in \u001b[0;36mpack_items\u001b[0;34m(self, items, packing)\u001b[0m\n\u001b[1;32m   1010\u001b[0m             \u001b[0;32mreturn\u001b[0m \u001b[0;34m(\u001b[0m\u001b[0mtypes\u001b[0m\u001b[0;34m,\u001b[0m \u001b[0mpacking\u001b[0m\u001b[0;34m)\u001b[0m\u001b[0;34m\u001b[0m\u001b[0m\n\u001b[1;32m   1011\u001b[0m \u001b[0;34m\u001b[0m\u001b[0m\n\u001b[0;32m-> 1012\u001b[0;31m     \u001b[0;34m@\u001b[0m\u001b[0mrecursive\u001b[0m\u001b[0;34m\u001b[0m\u001b[0m\n\u001b[0m\u001b[1;32m   1013\u001b[0m     \u001b[0;32mdef\u001b[0m \u001b[0mpack_items\u001b[0m\u001b[0;34m(\u001b[0m\u001b[0mself\u001b[0m\u001b[0;34m,\u001b[0m \u001b[0mitems\u001b[0m\u001b[0;34m,\u001b[0m \u001b[0mpacking\u001b[0m\u001b[0;34m)\u001b[0m\u001b[0;34m:\u001b[0m\u001b[0;34m\u001b[0m\u001b[0m\n\u001b[1;32m   1014\u001b[0m         \u001b[0;34m\"\"\"Pack items into nested lists based on re-packing info.\"\"\"\u001b[0m\u001b[0;34m\u001b[0m\u001b[0m\n",
      "\u001b[0;31mKeyboardInterrupt\u001b[0m: "
     ]
    }
   ],
   "source": [
    "for idx, start, stop  in zip(chrom_starts_stops['0'].values, chrom_starts_stops['1'].values, chrom_starts_stops['2'].values):\n",
    "    t = time()\n",
    "    test = np.loadtxt('/home/groups/dpwall/briannac/y_chromosome_mismappings/intermediate_files/coverages/02C10946.unmapped.txt', skiprows=1+start, max_rows=1000000)\n",
    "    np.savetxt('/home/groups/dpwall/briannac/y_chromosome_mismappings/intermediate_files/coverages/02C10946_%s.unmapped.txt' % idx, test)\n",
    "    print(idx, time()-t)"
   ]
  },
  {
   "cell_type": "code",
   "execution_count": 33,
   "id": "antique-orbit",
   "metadata": {},
   "outputs": [
    {
     "name": "stdout",
     "output_type": "stream",
     "text": [
      "44.19847369194031\n"
     ]
    }
   ],
   "source": [
    "\n",
    "t = time()\n",
    "test = np.loadtxt('/home/groups/dpwall/briannac/y_chromosome_mismappings/intermediate_files/coverages/02C10946.unmapped.txt', skiprows=1, max_rows=10000000)\n",
    "print(time()-t)"
   ]
  },
  {
   "cell_type": "code",
   "execution_count": 36,
   "id": "written-things",
   "metadata": {},
   "outputs": [
    {
     "name": "stdout",
     "output_type": "stream",
     "text": [
      "6.333582162857056\n"
     ]
    }
   ],
   "source": [
    "t = time()\n",
    "test = np.loadtxt('/home/groups/dpwall/briannac/y_chromosome_mismappings/intermediate_files/coverages/02C10946.unmapped.txt', skiprows=10000000, max_rows=1000000)\n",
    "np.savetxt('/home/groups/dpwall/briannac/y_chromosome_mismappings/intermediate_files/coverages/02C10946.unmapped.txt')\n",
    "print(time()-t)"
   ]
  },
  {
   "cell_type": "code",
   "execution_count": 40,
   "id": "straight-speed",
   "metadata": {},
   "outputs": [
    {
     "data": {
      "text/plain": [
       "5.833333333333333"
      ]
     },
     "execution_count": 40,
     "metadata": {},
     "output_type": "execute_result"
    }
   ],
   "source": [
    "7*3000/60/60"
   ]
  },
  {
   "cell_type": "code",
   "execution_count": 3,
   "id": "younger-albania",
   "metadata": {},
   "outputs": [],
   "source": [
    "bam_mappings = pd.read_table(BAM_MAPPINGS_FILE, index_col=1)"
   ]
  },
  {
   "cell_type": "code",
   "execution_count": 67,
   "id": "charitable-butter",
   "metadata": {},
   "outputs": [
    {
     "data": {
      "text/html": [
       "<div>\n",
       "<style scoped>\n",
       "    .dataframe tbody tr th:only-of-type {\n",
       "        vertical-align: middle;\n",
       "    }\n",
       "\n",
       "    .dataframe tbody tr th {\n",
       "        vertical-align: top;\n",
       "    }\n",
       "\n",
       "    .dataframe thead th {\n",
       "        text-align: right;\n",
       "    }\n",
       "</style>\n",
       "<table border=\"1\" class=\"dataframe\">\n",
       "  <thead>\n",
       "    <tr style=\"text-align: right;\">\n",
       "      <th></th>\n",
       "      <th>02C10540</th>\n",
       "      <th>02C10858</th>\n",
       "      <th>02C10946</th>\n",
       "      <th>02C10955</th>\n",
       "      <th>02C11036</th>\n",
       "      <th>02C11099</th>\n",
       "      <th>02C11393</th>\n",
       "      <th>02C11453</th>\n",
       "      <th>02C11465</th>\n",
       "      <th>02C11503</th>\n",
       "      <th>...</th>\n",
       "      <th>MH0130591</th>\n",
       "      <th>MH0131373</th>\n",
       "      <th>MH0131382</th>\n",
       "      <th>MH0132929</th>\n",
       "      <th>MH0132952</th>\n",
       "      <th>MH0135248</th>\n",
       "      <th>MH0137425</th>\n",
       "      <th>MH0138043</th>\n",
       "      <th>MH0138051</th>\n",
       "      <th>MH0143008</th>\n",
       "    </tr>\n",
       "  </thead>\n",
       "  <tbody>\n",
       "    <tr>\n",
       "      <th>0</th>\n",
       "      <td>0.000108</td>\n",
       "      <td>0.000077</td>\n",
       "      <td>0.000117</td>\n",
       "      <td>0.000109</td>\n",
       "      <td>0.000092</td>\n",
       "      <td>0.000082</td>\n",
       "      <td>0.000116</td>\n",
       "      <td>0.000119</td>\n",
       "      <td>0.000120</td>\n",
       "      <td>0.000121</td>\n",
       "      <td>...</td>\n",
       "      <td>0.000101</td>\n",
       "      <td>0.000130</td>\n",
       "      <td>0.000118</td>\n",
       "      <td>0.000095</td>\n",
       "      <td>0.000128</td>\n",
       "      <td>0.000121</td>\n",
       "      <td>0.000114</td>\n",
       "      <td>0.000092</td>\n",
       "      <td>0.000078</td>\n",
       "      <td>0.000108</td>\n",
       "    </tr>\n",
       "    <tr>\n",
       "      <th>1</th>\n",
       "      <td>0.000108</td>\n",
       "      <td>0.000077</td>\n",
       "      <td>0.000122</td>\n",
       "      <td>0.000109</td>\n",
       "      <td>0.000092</td>\n",
       "      <td>0.000082</td>\n",
       "      <td>0.000116</td>\n",
       "      <td>0.000119</td>\n",
       "      <td>0.000120</td>\n",
       "      <td>0.000121</td>\n",
       "      <td>...</td>\n",
       "      <td>0.000101</td>\n",
       "      <td>0.000130</td>\n",
       "      <td>0.000118</td>\n",
       "      <td>0.000095</td>\n",
       "      <td>0.000134</td>\n",
       "      <td>0.000121</td>\n",
       "      <td>0.000114</td>\n",
       "      <td>0.000092</td>\n",
       "      <td>0.000078</td>\n",
       "      <td>0.000105</td>\n",
       "    </tr>\n",
       "    <tr>\n",
       "      <th>2</th>\n",
       "      <td>0.000113</td>\n",
       "      <td>0.000074</td>\n",
       "      <td>0.000122</td>\n",
       "      <td>0.000109</td>\n",
       "      <td>0.000092</td>\n",
       "      <td>0.000082</td>\n",
       "      <td>0.000118</td>\n",
       "      <td>0.000119</td>\n",
       "      <td>0.000120</td>\n",
       "      <td>0.000123</td>\n",
       "      <td>...</td>\n",
       "      <td>0.000104</td>\n",
       "      <td>0.000130</td>\n",
       "      <td>0.000121</td>\n",
       "      <td>0.000095</td>\n",
       "      <td>0.000131</td>\n",
       "      <td>0.000124</td>\n",
       "      <td>0.000114</td>\n",
       "      <td>0.000092</td>\n",
       "      <td>0.000078</td>\n",
       "      <td>0.000105</td>\n",
       "    </tr>\n",
       "    <tr>\n",
       "      <th>3</th>\n",
       "      <td>0.000113</td>\n",
       "      <td>0.000077</td>\n",
       "      <td>0.000124</td>\n",
       "      <td>0.000111</td>\n",
       "      <td>0.000090</td>\n",
       "      <td>0.000082</td>\n",
       "      <td>0.000118</td>\n",
       "      <td>0.000125</td>\n",
       "      <td>0.000120</td>\n",
       "      <td>0.000123</td>\n",
       "      <td>...</td>\n",
       "      <td>0.000106</td>\n",
       "      <td>0.000130</td>\n",
       "      <td>0.000123</td>\n",
       "      <td>0.000095</td>\n",
       "      <td>0.000131</td>\n",
       "      <td>0.000124</td>\n",
       "      <td>0.000111</td>\n",
       "      <td>0.000092</td>\n",
       "      <td>0.000078</td>\n",
       "      <td>0.000108</td>\n",
       "    </tr>\n",
       "    <tr>\n",
       "      <th>4</th>\n",
       "      <td>0.000110</td>\n",
       "      <td>0.000077</td>\n",
       "      <td>0.000124</td>\n",
       "      <td>0.000111</td>\n",
       "      <td>0.000092</td>\n",
       "      <td>0.000085</td>\n",
       "      <td>0.000118</td>\n",
       "      <td>0.000128</td>\n",
       "      <td>0.000122</td>\n",
       "      <td>0.000128</td>\n",
       "      <td>...</td>\n",
       "      <td>0.000106</td>\n",
       "      <td>0.000125</td>\n",
       "      <td>0.000121</td>\n",
       "      <td>0.000095</td>\n",
       "      <td>0.000128</td>\n",
       "      <td>0.000124</td>\n",
       "      <td>0.000111</td>\n",
       "      <td>0.000092</td>\n",
       "      <td>0.000078</td>\n",
       "      <td>0.000108</td>\n",
       "    </tr>\n",
       "    <tr>\n",
       "      <th>...</th>\n",
       "      <td>...</td>\n",
       "      <td>...</td>\n",
       "      <td>...</td>\n",
       "      <td>...</td>\n",
       "      <td>...</td>\n",
       "      <td>...</td>\n",
       "      <td>...</td>\n",
       "      <td>...</td>\n",
       "      <td>...</td>\n",
       "      <td>...</td>\n",
       "      <td>...</td>\n",
       "      <td>...</td>\n",
       "      <td>...</td>\n",
       "      <td>...</td>\n",
       "      <td>...</td>\n",
       "      <td>...</td>\n",
       "      <td>...</td>\n",
       "      <td>...</td>\n",
       "      <td>...</td>\n",
       "      <td>...</td>\n",
       "      <td>...</td>\n",
       "    </tr>\n",
       "    <tr>\n",
       "      <th>9995</th>\n",
       "      <td>0.000113</td>\n",
       "      <td>0.000096</td>\n",
       "      <td>0.000109</td>\n",
       "      <td>0.000128</td>\n",
       "      <td>0.000092</td>\n",
       "      <td>0.000092</td>\n",
       "      <td>0.000118</td>\n",
       "      <td>0.000106</td>\n",
       "      <td>0.000111</td>\n",
       "      <td>0.000082</td>\n",
       "      <td>...</td>\n",
       "      <td>0.000101</td>\n",
       "      <td>0.000145</td>\n",
       "      <td>0.000084</td>\n",
       "      <td>0.000106</td>\n",
       "      <td>0.000102</td>\n",
       "      <td>0.000131</td>\n",
       "      <td>0.000120</td>\n",
       "      <td>0.000127</td>\n",
       "      <td>0.000109</td>\n",
       "      <td>0.000105</td>\n",
       "    </tr>\n",
       "    <tr>\n",
       "      <th>9996</th>\n",
       "      <td>0.000115</td>\n",
       "      <td>0.000096</td>\n",
       "      <td>0.000109</td>\n",
       "      <td>0.000128</td>\n",
       "      <td>0.000092</td>\n",
       "      <td>0.000092</td>\n",
       "      <td>0.000116</td>\n",
       "      <td>0.000103</td>\n",
       "      <td>0.000109</td>\n",
       "      <td>0.000082</td>\n",
       "      <td>...</td>\n",
       "      <td>0.000099</td>\n",
       "      <td>0.000142</td>\n",
       "      <td>0.000086</td>\n",
       "      <td>0.000103</td>\n",
       "      <td>0.000102</td>\n",
       "      <td>0.000131</td>\n",
       "      <td>0.000117</td>\n",
       "      <td>0.000124</td>\n",
       "      <td>0.000106</td>\n",
       "      <td>0.000103</td>\n",
       "    </tr>\n",
       "    <tr>\n",
       "      <th>9997</th>\n",
       "      <td>0.000115</td>\n",
       "      <td>0.000093</td>\n",
       "      <td>0.000109</td>\n",
       "      <td>0.000128</td>\n",
       "      <td>0.000092</td>\n",
       "      <td>0.000089</td>\n",
       "      <td>0.000116</td>\n",
       "      <td>0.000109</td>\n",
       "      <td>0.000109</td>\n",
       "      <td>0.000080</td>\n",
       "      <td>...</td>\n",
       "      <td>0.000097</td>\n",
       "      <td>0.000139</td>\n",
       "      <td>0.000086</td>\n",
       "      <td>0.000103</td>\n",
       "      <td>0.000102</td>\n",
       "      <td>0.000131</td>\n",
       "      <td>0.000114</td>\n",
       "      <td>0.000124</td>\n",
       "      <td>0.000106</td>\n",
       "      <td>0.000103</td>\n",
       "    </tr>\n",
       "    <tr>\n",
       "      <th>9998</th>\n",
       "      <td>0.000118</td>\n",
       "      <td>0.000093</td>\n",
       "      <td>0.000104</td>\n",
       "      <td>0.000128</td>\n",
       "      <td>0.000092</td>\n",
       "      <td>0.000089</td>\n",
       "      <td>0.000116</td>\n",
       "      <td>0.000109</td>\n",
       "      <td>0.000109</td>\n",
       "      <td>0.000080</td>\n",
       "      <td>...</td>\n",
       "      <td>0.000097</td>\n",
       "      <td>0.000142</td>\n",
       "      <td>0.000089</td>\n",
       "      <td>0.000106</td>\n",
       "      <td>0.000099</td>\n",
       "      <td>0.000131</td>\n",
       "      <td>0.000114</td>\n",
       "      <td>0.000124</td>\n",
       "      <td>0.000106</td>\n",
       "      <td>0.000105</td>\n",
       "    </tr>\n",
       "    <tr>\n",
       "      <th>9999</th>\n",
       "      <td>0.000118</td>\n",
       "      <td>0.000093</td>\n",
       "      <td>0.000104</td>\n",
       "      <td>0.000128</td>\n",
       "      <td>0.000092</td>\n",
       "      <td>0.000089</td>\n",
       "      <td>0.000116</td>\n",
       "      <td>0.000109</td>\n",
       "      <td>0.000109</td>\n",
       "      <td>0.000080</td>\n",
       "      <td>...</td>\n",
       "      <td>0.000101</td>\n",
       "      <td>0.000142</td>\n",
       "      <td>0.000089</td>\n",
       "      <td>0.000106</td>\n",
       "      <td>0.000096</td>\n",
       "      <td>0.000134</td>\n",
       "      <td>0.000117</td>\n",
       "      <td>0.000124</td>\n",
       "      <td>0.000106</td>\n",
       "      <td>0.000105</td>\n",
       "    </tr>\n",
       "  </tbody>\n",
       "</table>\n",
       "<p>10000 rows × 896 columns</p>\n",
       "</div>"
      ],
      "text/plain": [
       "      02C10540  02C10858  02C10946  02C10955  02C11036  02C11099  02C11393  \\\n",
       "0     0.000108  0.000077  0.000117  0.000109  0.000092  0.000082  0.000116   \n",
       "1     0.000108  0.000077  0.000122  0.000109  0.000092  0.000082  0.000116   \n",
       "2     0.000113  0.000074  0.000122  0.000109  0.000092  0.000082  0.000118   \n",
       "3     0.000113  0.000077  0.000124  0.000111  0.000090  0.000082  0.000118   \n",
       "4     0.000110  0.000077  0.000124  0.000111  0.000092  0.000085  0.000118   \n",
       "...        ...       ...       ...       ...       ...       ...       ...   \n",
       "9995  0.000113  0.000096  0.000109  0.000128  0.000092  0.000092  0.000118   \n",
       "9996  0.000115  0.000096  0.000109  0.000128  0.000092  0.000092  0.000116   \n",
       "9997  0.000115  0.000093  0.000109  0.000128  0.000092  0.000089  0.000116   \n",
       "9998  0.000118  0.000093  0.000104  0.000128  0.000092  0.000089  0.000116   \n",
       "9999  0.000118  0.000093  0.000104  0.000128  0.000092  0.000089  0.000116   \n",
       "\n",
       "      02C11453  02C11465  02C11503  ...  MH0130591  MH0131373  MH0131382  \\\n",
       "0     0.000119  0.000120  0.000121  ...   0.000101   0.000130   0.000118   \n",
       "1     0.000119  0.000120  0.000121  ...   0.000101   0.000130   0.000118   \n",
       "2     0.000119  0.000120  0.000123  ...   0.000104   0.000130   0.000121   \n",
       "3     0.000125  0.000120  0.000123  ...   0.000106   0.000130   0.000123   \n",
       "4     0.000128  0.000122  0.000128  ...   0.000106   0.000125   0.000121   \n",
       "...        ...       ...       ...  ...        ...        ...        ...   \n",
       "9995  0.000106  0.000111  0.000082  ...   0.000101   0.000145   0.000084   \n",
       "9996  0.000103  0.000109  0.000082  ...   0.000099   0.000142   0.000086   \n",
       "9997  0.000109  0.000109  0.000080  ...   0.000097   0.000139   0.000086   \n",
       "9998  0.000109  0.000109  0.000080  ...   0.000097   0.000142   0.000089   \n",
       "9999  0.000109  0.000109  0.000080  ...   0.000101   0.000142   0.000089   \n",
       "\n",
       "      MH0132929  MH0132952  MH0135248  MH0137425  MH0138043  MH0138051  \\\n",
       "0      0.000095   0.000128   0.000121   0.000114   0.000092   0.000078   \n",
       "1      0.000095   0.000134   0.000121   0.000114   0.000092   0.000078   \n",
       "2      0.000095   0.000131   0.000124   0.000114   0.000092   0.000078   \n",
       "3      0.000095   0.000131   0.000124   0.000111   0.000092   0.000078   \n",
       "4      0.000095   0.000128   0.000124   0.000111   0.000092   0.000078   \n",
       "...         ...        ...        ...        ...        ...        ...   \n",
       "9995   0.000106   0.000102   0.000131   0.000120   0.000127   0.000109   \n",
       "9996   0.000103   0.000102   0.000131   0.000117   0.000124   0.000106   \n",
       "9997   0.000103   0.000102   0.000131   0.000114   0.000124   0.000106   \n",
       "9998   0.000106   0.000099   0.000131   0.000114   0.000124   0.000106   \n",
       "9999   0.000106   0.000096   0.000134   0.000117   0.000124   0.000106   \n",
       "\n",
       "      MH0143008  \n",
       "0      0.000108  \n",
       "1      0.000105  \n",
       "2      0.000105  \n",
       "3      0.000108  \n",
       "4      0.000108  \n",
       "...         ...  \n",
       "9995   0.000105  \n",
       "9996   0.000103  \n",
       "9997   0.000103  \n",
       "9998   0.000105  \n",
       "9999   0.000105  \n",
       "\n",
       "[10000 rows x 896 columns]"
      ]
     },
     "execution_count": 67,
     "metadata": {},
     "output_type": "execute_result"
    }
   ],
   "source": [
    "males"
   ]
  },
  {
   "cell_type": "code",
   "execution_count": 152,
   "id": "sonic-thing",
   "metadata": {},
   "outputs": [],
   "source": [
    "#covs_proper = pd.read_table(COV_FILE_PROPER)\n",
    "covs_proper = pd.read_table(COV_FILE_IMPROPER, chunksize=1000000)\n",
    "#covs_unmapped = pd.read_table(COV_FILE_UNMAPPED)\n",
    "bam_mappings = pd.read_table(BAM_MAPPINGS_FILE, index_col=1)"
   ]
  },
  {
   "cell_type": "code",
   "execution_count": null,
   "id": "neutral-still",
   "metadata": {},
   "outputs": [
    {
     "name": "stdout",
     "output_type": "stream",
     "text": [
      "0\n",
      "1\n",
      "2\n",
      "3\n",
      "4\n",
      "5\n",
      "6\n",
      "7\n",
      "8\n",
      "9\n",
      "10\n",
      "11\n",
      "12\n",
      "13\n",
      "14\n",
      "15\n",
      "16\n",
      "17\n",
      "18\n",
      "19\n",
      "20\n",
      "21\n"
     ]
    }
   ],
   "source": [
    "for i, chunk in enumerate(pd.read_table(COV_FILE_PROPER, chunksize=1000000, skiprows=1)):\n",
    "    print(i)\n",
    "    if i==0: sums = chunk.sum()\n",
    "    else: sums = sums + chunk.sum()\n",
    "pvals = []\n",
    "for i, chunk in enumerate(pd.read_table(COV_FILE_PROPER, chunksize=10000000, skiprows=1)):\n",
    "    print(i)\n",
    "    print(i)\n",
    "    norm_vals = chunk/sums\n",
    "    norm_vals = norm_vals[norm_vals.columns[sums>0]]\n",
    "    males = norm_vals[norm_vals.columns[bam_mappings.loc[norm_vals.columns].sex_numeric=='1.0']]\n",
    "    females = norm_vals[norm_vals.columns[bam_mappings.loc[norm_vals.columns].sex_numeric=='2.0']]\n",
    "    pvals = pvals + list(stats.ttest_ind(males, females, axis=1).pvalue)"
   ]
  },
  {
   "cell_type": "code",
   "execution_count": null,
   "id": "native-sheet",
   "metadata": {},
   "outputs": [],
   "source": [
    "PlotPvals(np.array(pvals)) # Beautiful!!!"
   ]
  },
  {
   "cell_type": "code",
   "execution_count": 253,
   "id": "cellular-flush",
   "metadata": {},
   "outputs": [],
   "source": [
    "bam_mappings = bam_mappings[(bam_mappings['relationship']=='sibling')]\n",
    "bam_mappings['derived_affected_status'] = [str(s) for s in bam_mappings.derived_affected_status]"
   ]
  },
  {
   "cell_type": "code",
   "execution_count": 252,
   "id": "reliable-planner",
   "metadata": {},
   "outputs": [],
   "source": [
    "bam_mappings['fam_and_status'] = [(f,d, m, p) for f,d,m,p in zip(bam_mappings.family, bam_mappings.derived_affected_status,\n",
    "                                                            bam_mappings.MotherID, bam_mappings.FatherID)]"
   ]
  },
  {
   "cell_type": "code",
   "execution_count": 239,
   "id": "least-strength",
   "metadata": {},
   "outputs": [],
   "source": [
    "females = bam_mappings[bam_mappings.sex_numeric=='2.0']\n",
    "males = bam_mappings[bam_mappings.sex_numeric=='1.0']"
   ]
  },
  {
   "cell_type": "code",
   "execution_count": 244,
   "id": "strange-participant",
   "metadata": {},
   "outputs": [],
   "source": [
    "pair_df = pd.DataFrame(np.equal.outer(females.fam_and_status.values, males.fam_and_status.values))\n",
    "pair_df.index = females.index\n",
    "pair_df.columns = males.index\n",
    "pairs = []\n",
    "while pair_df.sum().sum()>0:\n",
    "    female_idx, male_idx = np.where(pair_df)\n",
    "    rand_idx = np.random.randint(len(female_idx))\n",
    "    new_pair = (pair_df.index[female_idx[rand_idx]], pair_df.columns[male_idx[rand_idx]])\n",
    "    pairs = pairs + [new_pair]\n",
    "    pair_df = pair_df.drop(\n",
    "        pair_df.index[female_idx[rand_idx]], axis=0).drop(\n",
    "        pair_df.columns[male_idx[rand_idx]], axis=1)"
   ]
  },
  {
   "cell_type": "code",
   "execution_count": null,
   "id": "welsh-trinidad",
   "metadata": {},
   "outputs": [],
   "source": [
    "female_in_pair = covs[[p[0] for p in pairs]]\n",
    "male_in_pair = covs[[p[1] for p in pairs]]"
   ]
  },
  {
   "cell_type": "code",
   "execution_count": 188,
   "id": "beginning-lewis",
   "metadata": {},
   "outputs": [
    {
     "name": "stderr",
     "output_type": "stream",
     "text": [
      "/home/users/briannac/.local/lib/python3.6/site-packages/scipy/stats/_distn_infrastructure.py:1932: RuntimeWarning: invalid value encountered in less_equal\n",
      "  cond2 = cond0 & (x <= _a)\n"
     ]
    }
   ],
   "source": [
    "t = stats.ttest_rel(female_in_pair.iloc[:1000], male_in_pair.iloc[:1000], axis=0)"
   ]
  },
  {
   "cell_type": "code",
   "execution_count": 193,
   "id": "improved-castle",
   "metadata": {},
   "outputs": [
    {
     "name": "stderr",
     "output_type": "stream",
     "text": [
      "/home/users/briannac/.local/lib/python3.6/site-packages/numpy/lib/histograms.py:824: RuntimeWarning: invalid value encountered in greater_equal\n",
      "  keep = (tmp_a >= first_edge)\n",
      "/home/users/briannac/.local/lib/python3.6/site-packages/numpy/lib/histograms.py:825: RuntimeWarning: invalid value encountered in less_equal\n",
      "  keep &= (tmp_a <= last_edge)\n"
     ]
    },
    {
     "data": {
      "text/plain": [
       "(array([ 1.,  4.,  1.,  5.,  3.,  3.,  5.,  5.,  3., 10.]),\n",
       " array([-186.26615828, -167.67341142, -149.08066456, -130.4879177 ,\n",
       "        -111.89517084,  -93.30242398,  -74.70967712,  -56.11693026,\n",
       "         -37.5241834 ,  -18.93143654,   -0.33868969]),\n",
       " <BarContainer object of 10 artists>)"
      ]
     },
     "execution_count": 193,
     "metadata": {},
     "output_type": "execute_result"
    },
    {
     "data": {
      "image/png": "[encoded data removed]",
      "text/plain": [
       "<Figure size 432x288 with 1 Axes>"
      ]
     },
     "metadata": {
      "needs_background": "light"
     },
     "output_type": "display_data"
    }
   ],
   "source": [
    "plt.hist(np.log10(t.pvalue))"
   ]
  },
  {
   "cell_type": "code",
   "execution_count": 198,
   "id": "geographic-orientation",
   "metadata": {},
   "outputs": [
    {
     "data": {
      "text/plain": [
       "array([12.40681622, 13.61691113, 16.51768766, 17.31622088, 17.41716997,\n",
       "       17.47497843, 17.66781708, 18.36194996, 19.09922347, 19.22044866,\n",
       "       20.23813632, 20.46462468, 20.68809318, 21.94305436, 22.60181191,\n",
       "       23.33951682,         nan,         nan,         nan,         nan,\n",
       "               nan,         nan,         nan,         nan,         nan,\n",
       "               nan])"
      ]
     },
     "execution_count": 198,
     "metadata": {},
     "output_type": "execute_result"
    }
   ],
   "source": [
    "np.unique(male_in_pair.mean())"
   ]
  },
  {
   "cell_type": "code",
   "execution_count": 200,
   "id": "clinical-hygiene",
   "metadata": {},
   "outputs": [
    {
     "data": {
      "text/plain": [
       "array([10.91932701, 15.17256255, 20.11993097, 21.13157895, 21.55478861,\n",
       "       21.92666091, 23.37532355, 24.62597066,         nan,         nan,\n",
       "               nan,         nan,         nan])"
      ]
     },
     "execution_count": 200,
     "metadata": {},
     "output_type": "execute_result"
    }
   ],
   "source": [
    "np.unique(female_in_pair.mean())"
   ]
  },
  {
   "cell_type": "code",
   "execution_count": null,
   "id": "premium-julian",
   "metadata": {},
   "outputs": [],
   "source": []
  }
 ],
 "metadata": {
  "kernelspec": {
   "display_name": "py_36_env",
   "language": "python",
   "name": "py_36_env"
  },
  "language_info": {
   "codemirror_mode": {
    "name": "ipython",
    "version": 3
   },
   "file_extension": ".py",
   "mimetype": "text/x-python",
   "name": "python",
   "nbconvert_exporter": "python",
   "pygments_lexer": "ipython3",
   "version": "3.6.1"
  }
 },
 "nbformat": 4,
 "nbformat_minor": 5
}
